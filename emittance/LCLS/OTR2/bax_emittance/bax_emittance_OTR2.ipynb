{
 "cells": [
  {
   "cell_type": "markdown",
   "id": "f8afd4da-54df-439f-9541-e9db0d9aef93",
   "metadata": {},
   "source": [
    "# Set up"
   ]
  },
  {
   "cell_type": "code",
   "execution_count": null,
   "id": "890c871b-096b-485e-a276-38c35e95e5a3",
   "metadata": {},
   "outputs": [],
   "source": [
    "import epics\n",
    "import torch\n",
    "torch.set_default_dtype(torch.float64)\n",
    "# torch.set_default_tensor_type('torch.DoubleTensor')\n",
    "run_dir = '/home/physics/ml_tuning/20250611_LCLS_Injector/'"
   ]
  },
  {
   "cell_type": "markdown",
   "id": "ff4674ad-ab85-4faf-81e7-6286144fc85f",
   "metadata": {},
   "source": [
    "# Create screen"
   ]
  },
  {
   "cell_type": "code",
   "execution_count": null,
   "id": "2bf7ed6f-78a8-4dd6-8434-f418f5d0f14f",
   "metadata": {},
   "outputs": [],
   "source": [
    "from lcls_tools.common.devices.reader import create_screen\n",
    "screen = create_screen(area=\"DL1\", name=\"OTR2\")"
   ]
  },
  {
   "cell_type": "markdown",
   "id": "e8cbc1c3-06e7-470a-8ea3-0109f2e0fa73",
   "metadata": {},
   "source": [
    "# Take background images"
   ]
  },
  {
   "cell_type": "code",
   "execution_count": null,
   "id": "481c722a-71cb-4d91-b44e-067d43dfb2f2",
   "metadata": {},
   "outputs": [],
   "source": [
    "## measure background\n",
    "shutter_pv = \"IOC:BSY0:MP01:MSHUTCTL\"\n",
    "\n",
    "import numpy as np\n",
    "from time import sleep\n",
    "epics.caput(shutter_pv,0) \n",
    "sleep(1)\n",
    "\n",
    "background_images = []\n",
    "for i in range(20):\n",
    "    background_images += [screen.image]\n",
    "    sleep(0.2)\n",
    "\n",
    "background_image = np.mean(background_images, axis=0)\n",
    "\n",
    "epics.caput(shutter_pv,1) \n",
    "sleep(1)\n",
    "\n",
    "plt.imshow(background_image)"
   ]
  },
  {
   "cell_type": "markdown",
   "id": "12bee4be-62fd-4e8f-89aa-0e18d298978a",
   "metadata": {},
   "source": [
    "# Define image_processor and beamsize_measurement"
   ]
  },
  {
   "cell_type": "code",
   "execution_count": null,
   "id": "775b3258-9462-454f-8ff6-a63552258bf3",
   "metadata": {},
   "outputs": [],
   "source": [
    "from ml_tto.automatic_emittance.screen_profile import ScreenBeamProfileMeasurement\n",
    "from lcls_tools.common.image.roi import ROI\n",
    "from lcls_tools.common.image.processing import ImageProcessor\n",
    "from ml_tto.automatic_emittance.image_projection_fit import RecursiveImageProjectionFit\n",
    "\n",
    "image_processor = ImageProcessor(\n",
    "    background_image=background_image,\n",
    "    roi=ROI(center=[600,400], extent=[600, 600]),\n",
    ")\n",
    "\n",
    "image_projection_fit = RecursiveImageProjectionFit()\n",
    "\n",
    "beamsize_measurement = ScreenBeamProfileMeasurement(\n",
    "    device=screen,\n",
    "    image_processor = image_processor,\n",
    "    beam_fit=image_projection_fit\n",
    ")\n",
    "beamsize_measurement.measure()"
   ]
  },
  {
   "cell_type": "markdown",
   "id": "6a6e7ed0-25ad-4c03-862e-67cc7f36e2cc",
   "metadata": {},
   "source": [
    "# Plot raw screen image"
   ]
  },
  {
   "cell_type": "code",
   "execution_count": null,
   "id": "35e67eaa-2255-4353-a241-20aa7a624b86",
   "metadata": {},
   "outputs": [],
   "source": [
    "plt.imshow(screen.image)"
   ]
  },
  {
   "cell_type": "markdown",
   "id": "0121a864-1bee-4d64-a366-0b7939f26663",
   "metadata": {},
   "source": [
    "# Test image fitting"
   ]
  },
  {
   "cell_type": "code",
   "execution_count": null,
   "id": "73a6173f-0ed2-416d-a560-9a2ad8b0b08e",
   "metadata": {},
   "outputs": [],
   "source": [
    "from ml_tto.automatic_emittance.plotting import plot_image_projection_fit\n",
    "result = image_projection_fit.fit_image(image_processor.auto_process(screen.image))\n",
    "plot_image_projection_fit(result)"
   ]
  },
  {
   "cell_type": "markdown",
   "id": "68f95666-ef27-4acc-a9de-9832a1495887",
   "metadata": {},
   "source": [
    "# Define evaluate function"
   ]
  },
  {
   "cell_type": "code",
   "execution_count": null,
   "id": "2afba624-2bc3-4a2d-8fd3-e2bf1b5f485f",
   "metadata": {},
   "outputs": [],
   "source": [
    "def evaluate(inputs: dict) -> dict:\n",
    "    result = beamsize_measurement.measure()\n",
    "    # process results\n",
    "    xrms = result.rms_sizes[:, 0] * beamsize_measurement.device.resolution * 1e-3 # beam size in millimeters\n",
    "    yrms = result.rms_sizes[:, 1] * beamsize_measurement.device.resolution * 1e-3 # beam size in millimeters\n",
    "    xrms_sq = xrms**2\n",
    "    yrms_sq = yrms**2\n",
    "    return {'xrms_sq': xrms_sq, \n",
    "            'yrms_sq': yrms_sq,\n",
    "           }"
   ]
  },
  {
   "cell_type": "markdown",
   "id": "29b59fa2-0ffd-4f57-8fdc-b22b92a45ad5",
   "metadata": {},
   "source": [
    "# List variables"
   ]
  },
  {
   "cell_type": "code",
   "execution_count": null,
   "id": "27d0d33d-8fa3-4eda-919a-e7bba3a121a0",
   "metadata": {},
   "outputs": [],
   "source": [
    "var_names = ['SOLN:IN20:121:BCTRL',\n",
    " 'QUAD:IN20:121:BCTRL',\n",
    " 'QUAD:IN20:122:BCTRL',\n",
    " 'QUAD:IN20:361:BCTRL',\n",
    " 'QUAD:IN20:371:BCTRL',\n",
    " 'QUAD:IN20:425:BCTRL',\n",
    " 'QUAD:IN20:441:BCTRL',\n",
    " 'QUAD:IN20:511:BCTRL',\n",
    " 'QUAD:IN20:525:BCTRL'\n",
    "]\n",
    "meas_quad = 'QUAD:IN20:525:BCTRL'\n",
    "init_values = dict(zip(var_names, epics.caget_many(var_names)))\n",
    "print(init_values)"
   ]
  },
  {
   "cell_type": "markdown",
   "id": "5eb6ed8b-3304-4bd6-bf8b-d49455cdafcf",
   "metadata": {},
   "source": [
    "# grab initial variable settings"
   ]
  },
  {
   "cell_type": "code",
   "execution_count": null,
   "id": "68f20cac-938b-4054-b63b-8adc49233806",
   "metadata": {},
   "outputs": [],
   "source": [
    "import pickle\n",
    "\n",
    "with open('init_values.pickle', 'rb') as handle:\n",
    "    init_values = pickle.load(handle)"
   ]
  },
  {
   "cell_type": "code",
   "execution_count": null,
   "id": "80b6c1c8-ff77-42d3-9b4b-c3355b0d0e73",
   "metadata": {},
   "outputs": [],
   "source": [
    "proposed_variable_ranges = {}\n",
    "\n",
    "for key, value in init_values.items():\n",
    "\n",
    "\tproposed_variable_ranges[key] = sorted([value * 0.9, value * 1.1])\n",
    "\n",
    "print(proposed_variable_ranges)"
   ]
  },
  {
   "cell_type": "code",
   "execution_count": null,
   "id": "f6361f7d-4677-46d8-b000-66aa9f627435",
   "metadata": {},
   "outputs": [],
   "source": [
    "variables = "
   ]
  },
  {
   "cell_type": "markdown",
   "id": "63812f2f-f4f8-4776-9b78-1144046fb8fb",
   "metadata": {},
   "source": [
    "# Define VOCS"
   ]
  },
  {
   "cell_type": "code",
   "execution_count": null,
   "id": "16ea46df-953c-4ff5-8c19-c23f7c340c48",
   "metadata": {},
   "outputs": [],
   "source": [
    "# construct vocs\n",
    "vocs = VOCS(\n",
    "    variables = variables,\n",
    "    observables = ['xrms_sq', 'yrms_sq'],\n",
    "    constraints = \n",
    ")\n",
    "\n",
    "print('variable_names =', vocs.variable_names)\n",
    "print('meas_quad =', \"'\" + meas_param + \"'\")\n",
    "print('domain =\\n', vocs.bounds.T)"
   ]
  },
  {
   "cell_type": "markdown",
   "id": "4889eb76-a146-4c4a-818e-e8db510a8d42",
   "metadata": {},
   "source": [
    "# Identify measurement quad dimension in Xopt model"
   ]
  },
  {
   "cell_type": "code",
   "execution_count": null,
   "id": "ab73e760-6769-43b7-b842-d16574fbd006",
   "metadata": {},
   "outputs": [],
   "source": [
    "meas_dim = vocs.variable_names.index(meas_quad)"
   ]
  },
  {
   "cell_type": "markdown",
   "id": "04357e44-a291-44b3-9e2e-3bbdc268a2b8",
   "metadata": {},
   "source": [
    "# define (quadratic x matern) product kernel model constructor"
   ]
  },
  {
   "cell_type": "code",
   "execution_count": null,
   "id": "e5364a0b-0f08-4147-ad78-c2f47116a6bf",
   "metadata": {},
   "outputs": [],
   "source": [
    "from gpytorch.kernels import MaternKernel, PolynomialKernel, ScaleKernel\n",
    "from gpytorch.priors.torch_priors import GammaPrior\n",
    "\n",
    "from xopt.generators.bayesian.models.standard import StandardModelConstructor\n",
    "\n",
    "# prepare custom covariance module\n",
    "tuning_dims = list(range(vocs.n_variables))\n",
    "tuning_dims.remove(meas_dim)\n",
    "covar_module_x = (MaternKernel(ard_num_dims=len(tuning_dims), \n",
    "                              active_dims=tuning_dims, \n",
    "                              lengthscale_prior=None) * \n",
    "                              PolynomialKernel(power=2, active_dims=[meas_dim])\n",
    "                 )\n",
    "\n",
    "scaled_covar_module_x = ScaleKernel(covar_module_x)#, outputscale_prior=GammaPrior(2.0, 0.15))\n",
    "covar_module_y = (MaternKernel(ard_num_dims=len(tuning_dims), \n",
    "                              active_dims=tuning_dims, \n",
    "                              lengthscale_prior=None) * \n",
    "                              PolynomialKernel(power=2, active_dims=[meas_dim])\n",
    "                 )\n",
    "scaled_covar_module_y =  ScaleKernel(covar_module_y)#, outputscale_prior=GammaPrior(2.0, 0.15))\n",
    "\n",
    "covar_module_dict = {'xrms_sq': scaled_covar_module_x,\n",
    "                     'yrms_sq': scaled_covar_module_y}\n",
    "\n",
    "model_constructor = StandardModelConstructor(covar_modules=covar_module_dict)"
   ]
  },
  {
   "cell_type": "markdown",
   "id": "c713edaf-e089-4900-a081-df2ac5a2ae6f",
   "metadata": {},
   "source": [
    "# Define numerical optimizer (for Xopt acquisition function optimization)"
   ]
  },
  {
   "cell_type": "code",
   "execution_count": null,
   "id": "cf78e5b0-a19c-48f5-9e31-064c79c1066a",
   "metadata": {},
   "outputs": [],
   "source": [
    "from xopt.numerical_optimizer import LBFGSOptimizer\n",
    "numerical_optimizer = LBFGSOptimizer(n_restarts=10,\n",
    "                                    max_time=2)"
   ]
  },
  {
   "cell_type": "markdown",
   "id": "a89b160a-505c-4a6d-ad2f-2c067024d5a2",
   "metadata": {},
   "source": [
    "# OTR2 emittance measurement config values (measurement quad : QE04 / QUAD:IN20:525)"
   ]
  },
  {
   "cell_type": "code",
   "execution_count": null,
   "id": "bd31df9a-d0c1-4c9d-8fbd-d1ece2fc8f77",
   "metadata": {},
   "outputs": [],
   "source": [
    "energy = 0.135e9 # eV\n",
    "q_len = 0.108 # measurement quad effective length in meters\n",
    "\n",
    "design_twiss = {}\n",
    "design_twiss['beta_x'] = 1.113\n",
    "design_twiss['alpha_x'] = -.069\n",
    "design_twiss['beta_y'] = 1.113\n",
    "design_twiss['alpha_y'] = -.07\n",
    "\n",
    "# 2x2 rmat for x (from END of measurement quad to screen)\n",
    "rmat_x = np.array([[1., 2.26],\n",
    "                   [0, 1.]]) \n",
    "# 2x2 rmat for y (from END of measurement quad to screen)\n",
    "rmat_y = np.array([[1., 2.26],\n",
    "                   [0, 1.]]) "
   ]
  },
  {
   "cell_type": "markdown",
   "id": "c9751f64-f1f4-4297-b6ca-8c963354db61",
   "metadata": {},
   "source": [
    "# Define emittance algorithm and construct BaxGenerator"
   ]
  },
  {
   "cell_type": "code",
   "execution_count": null,
   "id": "9cd2a35d-2cb3-4b4c-8877-86aceb96b9fb",
   "metadata": {},
   "outputs": [],
   "source": [
    "from bax_algorithms.emittance import PathwiseMinimizeEmittance\n",
    "from bax_algorithms.pathwise.optimize import DifferentialEvolution\n",
    "from xopt.generators.bayesian.bax_generator import BaxGenerator\n",
    "from xopt.evaluator import Evaluator\n",
    "from xopt import Xopt\n",
    "\n",
    "#Prepare Algorithm\n",
    "algo_kwargs = {\n",
    "        'x_key': 'xrms_sq',\n",
    "        'y_key': 'yrms_sq',\n",
    "        'energy': energy,\n",
    "        'q_len': q_len,\n",
    "        'rmat_x': rmat_x,\n",
    "        'rmat_y': rmat_y,\n",
    "        'twiss0_x': torch.tensor([design_twiss['beta_x'], design_twiss['alpha_x']]),\n",
    "        'twiss0_y': torch.tensor([design_twiss['beta_y'], design_twiss['alpha_y']]),\n",
    "        'n_samples': 3,\n",
    "        'meas_dim': meas_dim,\n",
    "        'n_steps_measurement_param': 11,\n",
    "        'use_bmag': True,\n",
    "        'observable_names_ordered': ['xrms_sq','yrms_sq'],\n",
    "        'optimizer': DifferentialEvolution(minimize=True, maxiter=10, verbose=True),\n",
    "        # 'maxiter_fit': 10,\n",
    "}\n",
    "algo = PathwiseMinimizeEmittance(**algo_kwargs)\n",
    "\n",
    "#construct BAX generator\n",
    "generator = BaxGenerator(vocs=vocs, \n",
    "                         gp_constructor=model_constructor, \n",
    "                         numerical_optimizer=numerical_optimizer,\n",
    "                         algorithm=algo,\n",
    "                         n_interpolate_points=5,\n",
    "                         use_cuda=False)\n",
    "\n",
    "generator.gp_constructor.use_low_noise_prior = False\n",
    "\n",
    "#construct evaluator\n",
    "evaluator = Evaluator(function=evaluate)\n",
    "\n",
    "#construct Xopt optimizer\n",
    "X = Xopt(evaluator=evaluator, generator=generator, vocs=vocs)"
   ]
  },
  {
   "cell_type": "markdown",
   "id": "133129c1-07c9-4fde-b8ec-00d9ba281f0b",
   "metadata": {},
   "source": [
    "# Evaluate initial data"
   ]
  },
  {
   "cell_type": "code",
   "execution_count": null,
   "id": "91337329-b145-47ce-9a83-96d7c746b6f7",
   "metadata": {},
   "outputs": [],
   "source": []
  },
  {
   "cell_type": "markdown",
   "id": "88e550d2-69ee-481d-b0a2-5becfcf59662",
   "metadata": {},
   "source": [
    "# visualize initial model"
   ]
  },
  {
   "cell_type": "code",
   "execution_count": null,
   "id": "9e21877f-45ed-4136-985f-db13dfbd4418",
   "metadata": {},
   "outputs": [],
   "source": [
    "reference_points = init_values"
   ]
  },
  {
   "cell_type": "code",
   "execution_count": null,
   "id": "230a05ff-702f-43df-b493-e42fa075e6aa",
   "metadata": {},
   "outputs": [],
   "source": [
    "from xopt.generators.bayesian.visualize import visualize_generator_model\n",
    "X.generator.train_model()\n",
    "visualize_generator_model(X.generator, \n",
    "                          variable_names=['QUAD:IN20:525:BCTRL'], \n",
    "                            reference_point=reference_point,\n",
    "                          show_acquisition=False)\n",
    "visualize_generator_model(X.generator, \n",
    "                          variable_names=['SOLN:IN20:121:BCTRL','QUAD:IN20:525:BCTRL'], \n",
    "                            reference_point=reference_point,\n",
    "                          show_acquisition=False)"
   ]
  },
  {
   "cell_type": "code",
   "execution_count": null,
   "id": "49228289-bfe6-4b1a-851e-97477eab8a65",
   "metadata": {},
   "outputs": [],
   "source": [
    "from bax_algorithms.visualize import visualize_virtual_measurement_result\n",
    "\n",
    "fig, ax = visualize_virtual_measurement_result(X.generator, \n",
    "                            variable_names=['SOLN:IN20:121:BCTRL'],\n",
    "                            reference_point=reference_point,\n",
    "                            n_grid=100,\n",
    "                            n_samples=100,\n",
    "                            result_keys=['objective','emit_x','emit_y','bmag_x','bmag_y'],\n",
    "                                     )"
   ]
  },
  {
   "cell_type": "markdown",
   "id": "a29dde80-07ab-4204-84e4-84879c590cbd",
   "metadata": {},
   "source": [
    "# Run BAX steps"
   ]
  },
  {
   "cell_type": "code",
   "execution_count": null,
   "id": "012069c7-1d67-4b13-b781-a604d71cb8f8",
   "metadata": {},
   "outputs": [],
   "source": [
    "for i in range(5):\n",
    "    print(i)\n",
    "    start = time.time()\n",
    "    X.step()\n",
    "    print(time.time() - start)"
   ]
  },
  {
   "cell_type": "markdown",
   "id": "8a3532bf-edaa-44a5-baf5-f569e0c08b14",
   "metadata": {},
   "source": [
    "# Visualize model"
   ]
  },
  {
   "cell_type": "code",
   "execution_count": null,
   "id": "80343942-35bf-4bd0-99fc-39670c40c4c4",
   "metadata": {},
   "outputs": [],
   "source": [
    "X.generator.train_model()\n",
    "visualize_generator_model(X.generator, \n",
    "                          variable_names=['QUAD:IN20:525:BCTRL'], \n",
    "                            reference_point=reference_point,\n",
    "                          show_acquisition=False)\n",
    "visualize_generator_model(X.generator, \n",
    "                          variable_names=['SOLN:IN20:121:BCTRL','QUAD:IN20:525:BCTRL'], \n",
    "                            reference_point=reference_point,\n",
    "                          show_acquisition=False)"
   ]
  },
  {
   "cell_type": "code",
   "execution_count": null,
   "id": "d088d0f1-c6bb-434d-82f8-297554e30a57",
   "metadata": {},
   "outputs": [],
   "source": [
    "fig, ax = visualize_virtual_measurement_result(X.generator, \n",
    "                            variable_names=['SOLN:IN20:121:BCTRL'],\n",
    "                            reference_point=reference_point,\n",
    "                            n_grid=100,\n",
    "                            n_samples=100,\n",
    "                            result_keys=['objective','emit_x','emit_y','bmag_x','bmag_y'],\n",
    "                                     )"
   ]
  },
  {
   "cell_type": "markdown",
   "id": "f63e4c54-d7f5-4df1-96cc-666c533955f4",
   "metadata": {},
   "source": [
    "# Get best BAX estimate (run algorithm on model posterior mean)"
   ]
  },
  {
   "cell_type": "code",
   "execution_count": null,
   "id": "96d318da-ef7d-495a-9007-0109f9936573",
   "metadata": {},
   "outputs": [],
   "source": [
    "from bax_algorithms.utils import get_bax_mean_prediction, tuning_input_tensor_to_dict\n",
    "mean_optimizer = DifferentialEvolution(minimize=True, popsize=100, maxiter=100, verbose=True)\n",
    "x_tuning = get_bax_mean_prediction(X.generator, mean_optimizer)\n",
    "x_tuning_dict = tuning_input_tensor_to_dict(X.generator, x_tuning)\n",
    "print(x_tuning)\n",
    "print(x_tuning_dict)"
   ]
  }
 ],
 "metadata": {
  "kernelspec": {
   "display_name": "Python 3 (ipykernel)",
   "language": "python",
   "name": "python3"
  },
  "language_info": {
   "codemirror_mode": {
    "name": "ipython",
    "version": 3
   },
   "file_extension": ".py",
   "mimetype": "text/x-python",
   "name": "python",
   "nbconvert_exporter": "python",
   "pygments_lexer": "ipython3",
   "version": "3.12.4"
  }
 },
 "nbformat": 4,
 "nbformat_minor": 5
}
