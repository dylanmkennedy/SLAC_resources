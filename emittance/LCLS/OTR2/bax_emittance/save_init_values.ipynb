{
 "cells": [
  {
   "cell_type": "markdown",
   "id": "116ba9f7-5610-4161-bd1e-29793cad91f6",
   "metadata": {},
   "source": [
    "# Save initial device settings"
   ]
  },
  {
   "cell_type": "code",
   "execution_count": null,
   "id": "937b6718-1aa5-4d8e-90d8-d69def535314",
   "metadata": {},
   "outputs": [],
   "source": [
    "variable_names = ['SOLN:IN20:121:BCTRL',\n",
    " 'QUAD:IN20:121:BCTRL',\n",
    " 'QUAD:IN20:122:BCTRL',\n",
    " 'QUAD:IN20:361:BCTRL',\n",
    " 'QUAD:IN20:371:BCTRL',\n",
    " 'QUAD:IN20:425:BCTRL',\n",
    " 'QUAD:IN20:441:BCTRL',\n",
    " 'QUAD:IN20:511:BCTRL',\n",
    " 'QUAD:IN20:525:BCTRL'\n",
    "]\n",
    "\n",
    "init_values = dict(zip(variable_names, epics.caget_many(variable_names)))\n",
    "print(init_values)"
   ]
  },
  {
   "cell_type": "code",
   "execution_count": null,
   "id": "e301ce10-86c6-41f4-a5ac-0a8b0a3c1e6b",
   "metadata": {},
   "outputs": [],
   "source": [
    "import pickle\n",
    "\n",
    "init_values = {'test_variable': 0.0}\n",
    "\n",
    "with open('init_values.pickle', 'wb') as handle:\n",
    "    pickle.dump(init_values, handle, protocol=pickle.HIGHEST_PROTOCOL)"
   ]
  }
 ],
 "metadata": {
  "kernelspec": {
   "display_name": "Python 3 (ipykernel)",
   "language": "python",
   "name": "python3"
  },
  "language_info": {
   "codemirror_mode": {
    "name": "ipython",
    "version": 3
   },
   "file_extension": ".py",
   "mimetype": "text/x-python",
   "name": "python",
   "nbconvert_exporter": "python",
   "pygments_lexer": "ipython3",
   "version": "3.12.4"
  }
 },
 "nbformat": 4,
 "nbformat_minor": 5
}
