{
 "cells": [
  {
   "cell_type": "markdown",
   "id": "1ab87bee-d2e4-4434-a96e-f29bab99e722",
   "metadata": {},
   "source": [
    "# Reset devices"
   ]
  },
  {
   "cell_type": "code",
   "execution_count": null,
   "id": "5117beb3-b9f8-4015-a658-e75d321a9309",
   "metadata": {},
   "outputs": [],
   "source": [
    "import pickle\n",
    "\n",
    "with open('init_values.pickle', 'rb') as handle:\n",
    "    init_values = pickle.load(handle)\n",
    "\n",
    "print(init_values)"
   ]
  },
  {
   "cell_type": "code",
   "execution_count": null,
   "id": "dbf95ae8-77a7-4b94-a726-d165eb53d578",
   "metadata": {},
   "outputs": [],
   "source": [
    "import epics\n",
    "\n",
    "for key, value in init_values.items():\n",
    "    epics.caput(key, value)"
   ]
  }
 ],
 "metadata": {
  "kernelspec": {
   "display_name": "Python 3 (ipykernel)",
   "language": "python",
   "name": "python3"
  },
  "language_info": {
   "codemirror_mode": {
    "name": "ipython",
    "version": 3
   },
   "file_extension": ".py",
   "mimetype": "text/x-python",
   "name": "python",
   "nbconvert_exporter": "python",
   "pygments_lexer": "ipython3",
   "version": "3.12.4"
  }
 },
 "nbformat": 4,
 "nbformat_minor": 5
}
